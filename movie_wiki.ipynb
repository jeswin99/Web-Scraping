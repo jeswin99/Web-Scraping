{
 "cells": [
  {
   "cell_type": "code",
   "execution_count": 1,
   "metadata": {},
   "outputs": [
    {
     "name": "stdout",
     "output_type": "stream",
     "text": [
      "Requirement already satisfied: wptools in /home/jeswin/.local/lib/python3.8/site-packages (0.4.17)\n",
      "Requirement already satisfied: certifi in /home/jeswin/anaconda3/lib/python3.8/site-packages (from wptools) (2020.6.20)\n",
      "Requirement already satisfied: lxml in /home/jeswin/anaconda3/lib/python3.8/site-packages (from wptools) (4.5.2)\n",
      "Requirement already satisfied: pycurl in /home/jeswin/anaconda3/lib/python3.8/site-packages (from wptools) (7.43.0.5)\n",
      "Requirement already satisfied: html2text in /home/jeswin/.local/lib/python3.8/site-packages (from wptools) (2020.1.16)\n",
      "Requirement already satisfied: bs4 in /home/jeswin/anaconda3/lib/python3.8/site-packages (0.0.1)\n",
      "Requirement already satisfied: beautifulsoup4 in /home/jeswin/anaconda3/lib/python3.8/site-packages (from bs4) (4.9.1)\n",
      "Requirement already satisfied: soupsieve>1.2 in /home/jeswin/anaconda3/lib/python3.8/site-packages (from beautifulsoup4->bs4) (2.0.1)\n"
     ]
    }
   ],
   "source": [
    "!pip install wptools\n",
    "!pip install bs4"
   ]
  },
  {
   "cell_type": "code",
   "execution_count": 2,
   "metadata": {},
   "outputs": [],
   "source": [
    "import urllib.request, urllib.parse, urllib.error\n",
    "import re\n",
    "import ssl\n",
    "import wptools\n",
    "from bs4 import BeautifulSoup as soup"
   ]
  },
  {
   "cell_type": "code",
   "execution_count": 3,
   "metadata": {},
   "outputs": [
    {
     "name": "stderr",
     "output_type": "stream",
     "text": [
      "en.wikipedia.org (parse) Diwanjimoola_Grand_Prix\n",
      "en.wikipedia.org (imageinfo) File:Diwanjimoola Grand Prix film po...\n",
      "Diwanjimoola Grand Prix (en) data\n",
      "{\n",
      "  image: <list(1)> {'kind': 'parse-image', 'file': 'File:Diwanjimo...\n",
      "  infobox: <dict(15)> name, image, caption, director, screenplay, ...\n",
      "  pageid: 55755420\n",
      "  parsetree: <str(10223)> <root><template><title>Use dmy dates</ti...\n",
      "  requests: <list(2)> parse, imageinfo\n",
      "  title: Diwanjimoola Grand Prix\n",
      "  wikibase: Q48671189\n",
      "  wikidata_url: https://www.wikidata.org/wiki/Q48671189\n",
      "  wikitext: <str(7155)> {{Use dmy dates|date=March 2018}}{{Use Ind...\n",
      "}\n",
      "en.wikipedia.org (parse) Eeda\n"
     ]
    },
    {
     "name": "stdout",
     "output_type": "stream",
     "text": [
      "\n",
      "\n",
      "name : Diwanjimoola Grand Prix\n",
      "image : Diwanjimoola Grand Prix film poster.jpg\n",
      "caption : Theatrical release poster\n",
      "director : [[Anil Radhakrishnan Menon]]\n",
      "screenplay : Anil Radhakrishnan MenonPrashant M. NairRiyas Marath (dialogue)\n",
      "story : Anil Radhakrishnan Menon\n",
      "producer : Masood T. P.Safeer K. P.Sherin Vennemkattil\n",
      "starring : [[Kunchacko Boban]][[Nyla Usha]]\n",
      "music : [[Gopi Sunder]]\n",
      "cinematography : Alex J. Pulickal\n",
      "distributor : Central Pictures\n",
      "studio : Mars EntertainmentSilver OceanGrand Pixels\n",
      "released : {{Film date|df|=|yes|2018|01|05}}\n",
      "country : India\n",
      "language : [[Malayalam]]\n",
      "\n",
      "\n"
     ]
    },
    {
     "name": "stderr",
     "output_type": "stream",
     "text": [
      "en.wikipedia.org (imageinfo) File:Eeda film poster.jpg\n",
      "Eeda (en) data\n",
      "{\n",
      "  image: <list(1)> {'kind': 'parse-image', 'file': 'File:Eeda film...\n",
      "  infobox: <dict(15)> name, image, caption, director, producer, wr...\n",
      "  pageid: 55777714\n",
      "  parsetree: <str(9469)> <root><template><title>Use dmy dates</tit...\n",
      "  requests: <list(2)> parse, imageinfo\n",
      "  title: Eeda\n",
      "  wikibase: Q43017753\n",
      "  wikidata_url: https://www.wikidata.org/wiki/Q43017753\n",
      "  wikitext: <str(7085)> {{Use dmy dates|date=March 2019}}{{Use Ind...\n",
      "}\n",
      "en.wikipedia.org (parse) Sakhavinte_Priyasakhi\n"
     ]
    },
    {
     "name": "stdout",
     "output_type": "stream",
     "text": [
      "\n",
      "\n",
      "name : Eeda\n",
      "image : Eeda film poster.jpg\n",
      "caption : Theatrical release poster\n",
      "director : [[B. Ajithkumar]]\n",
      "producer : Sharmila Rajaa, TRS Muthukumaar (executive producer)\n",
      "writer : [[B. Ajithkumar]]\n",
      "starring : [[Shane Nigam]][[Nimisha Sajayan]]\n",
      "music : [[John P. Varkey]] [[Chandran Veyattummal]]\n",
      "cinematography : [[Pappu (cinematographer)|Pappu]]\n",
      "editing : [[B. Ajithkumar]]\n",
      "studio : Collective Phase OneDelta Studio\n",
      "distributor : [[LJ Films]]\n",
      "released : {{Film date|df|=|yes|2018|01|05}}\n",
      "country : India\n",
      "language : [[Malayalam]]\n",
      "\n",
      "\n"
     ]
    },
    {
     "name": "stderr",
     "output_type": "stream",
     "text": [
      "en.wikipedia.org (imageinfo) File:Sakhavinte Priyasakhi poster.jpg\n",
      "Sakhavinte Priyasakhi (en) data\n",
      "{\n",
      "  image: <list(1)> {'kind': 'parse-image', 'file': 'File:Sakhavint...\n",
      "  infobox: <dict(13)> name, image, caption, director, producer, wr...\n",
      "  pageid: 55178088\n",
      "  parsetree: <str(6991)> <root><template><title>Use dmy dates</tit...\n",
      "  requests: <list(2)> parse, imageinfo\n",
      "  title: Sakhavinte Priyasakhi\n",
      "  wikibase: Q39926619\n",
      "  wikidata_url: https://www.wikidata.org/wiki/Q39926619\n",
      "  wikitext: <str(4488)> {{Use dmy dates|date=February 2017}}{{Use ...\n",
      "}\n",
      "en.wikipedia.org (parse) Daivame_Kaithozham_K._Kumar_Akanam\n"
     ]
    },
    {
     "name": "stdout",
     "output_type": "stream",
     "text": [
      "\n",
      "\n",
      "name : Sakhavinte Priyasakhi\n",
      "image : Sakhavinte Priyasakhi poster.jpg\n",
      "caption : Theatrical release poster\n",
      "director : Sidheeque Thamarasseri\n",
      "producer : Khalid Cherpulassery\n",
      "writer : Sidheeque Thamarasseri\n",
      "starring : {{Plainlist|\n",
      "* [[Sudheer Karamana]]\n",
      "* [[Neha Saxena (film actress)|Neha Saxena]]\n",
      "* Amith Jolly\n",
      "* [[Salim Kumar]]\n",
      "* [[Shine Tom Chacko]]\n",
      "* [[Kalabhavan Shajohn]]\n",
      "* [[Khalid Cherpulassery]]}}\n",
      "music : Harikumar Hareram\n",
      "cinematography : Ratheesh K. G.\n",
      "studio : Janapriya Cinemas\n",
      "released : {{film date|df|=|y|2018|1|5}}\n",
      "country : India\n",
      "language : [[Malayalam]]\n",
      "\n",
      "\n"
     ]
    },
    {
     "name": "stderr",
     "output_type": "stream",
     "text": [
      "en.wikipedia.org (imageinfo) File:Daivame Kaithozham K. Kumar Aka...\n",
      "Daivame Kaithozham K. Kumar Akanam (en) data\n",
      "{\n",
      "  image: <list(1)> {'kind': 'parse-image', 'file': 'File:Daivame K...\n",
      "  infobox: <dict(16)> name, image, caption, director, producer, wr...\n",
      "  pageid: 56576295\n",
      "  parsetree: <str(7352)> <root><template><title>Use dmy dates</tit...\n",
      "  requests: <list(2)> parse, imageinfo\n",
      "  title: Daivame Kaithozham K. Kumar Akanam\n",
      "  wikibase: Q48671943\n",
      "  wikidata_url: https://www.wikidata.org/wiki/Q48671943\n",
      "  wikitext: <str(5461)> {{Use dmy dates|date=February 2017}}{{Use ...\n",
      "}\n",
      "en.wikipedia.org (parse) Queen_(2018_film)\n"
     ]
    },
    {
     "name": "stdout",
     "output_type": "stream",
     "text": [
      "\n",
      "\n",
      "name : Daivame Kaithozham K. Kumar Akanam\n",
      "image : Daivame Kaithozham K. Kumar Akanam poster.jpg\n",
      "caption : Poster\n",
      "director : [[Salim Kumar]]\n",
      "producer : Zachariah Thomas Alwin AntonySreejith Ramachandran\n",
      "writer : Salim Kumar\n",
      "starring : [[Jayaram]][[Anusree]]\n",
      "music : [[Nadirshah]]\n",
      "cinematography : Sinu Sidharth\n",
      "editing : Riyaz\n",
      "studio : United Global Media Entertainment\n",
      "distributor : United Global Media Entertainment\n",
      "released : {{Film date|2018|1|12|df|=|y}}\n",
      "runtime : 150 minutes\n",
      "country : India\n",
      "language : [[Malayalam]]\n",
      "\n",
      "\n"
     ]
    },
    {
     "name": "stderr",
     "output_type": "stream",
     "text": [
      "en.wikipedia.org (imageinfo) File:Poster of Malayalam Movie Queen.jpg\n"
     ]
    },
    {
     "name": "stdout",
     "output_type": "stream",
     "text": [
      "\n",
      "\n",
      "name : Queen\n",
      "image : Poster of Malayalam Movie Queen.jpg\n",
      "director : Dijo Jose Antony\n",
      "producer : Shibu K. MoideenRinshad V\n",
      "writer : Sharis MohammedJebin Joseph Anton\n",
      "{production controller  =  Hochimin K C\n",
      "starring : {{plainlist|\n",
      "* [[Saniya Iyappan]]\n",
      "* Dhruvan\n",
      "* Ashwin Jose\n",
      "* Eldho Mathew\n",
      "* Arun H. Das\n",
      "* Shamil Raj}}\n",
      "music : [[Jakes Bejoy]]\n",
      "cinematography : Suresh Gopi\n",
      "editing : Sagar Dass\n",
      "studio : Arabian Dreams Entertainment\n",
      "distributor : Central Pictures\n",
      "released : {{Film date|df|=|yes|2018|1|12|India}}\n",
      "country : [[India]]\n",
      "language : [[Malayalam]]\n",
      "\n",
      "\n"
     ]
    },
    {
     "name": "stderr",
     "output_type": "stream",
     "text": [
      "Queen (2018 film) (en) data\n",
      "{\n",
      "  image: <list(1)> {'kind': 'parse-image', 'file': 'File:Poster of...\n",
      "  infobox: <dict(14)> name, image, director, producer, writer, sta...\n",
      "  pageid: 53794728\n",
      "  parsetree: <str(14022)> <root><template><title>Use dmy dates</ti...\n",
      "  requests: <list(2)> parse, imageinfo\n",
      "  title: Queen (2018 film)\n",
      "  wikibase: Q29471674\n",
      "  wikidata_url: https://www.wikidata.org/wiki/Q29471674\n",
      "  wikitext: <str(9108)> {{Use dmy dates|date=March 2018}}{{Use Ind...\n",
      "}\n"
     ]
    }
   ],
   "source": [
    "ctx = ssl.create_default_context()\n",
    "ctx.check_hostname = False\n",
    "ctx.verify_mode = ssl.CERT_NONE\n",
    "url = 'https://en.wikipedia.org/wiki/List_of_Malayalam_films_of_2018'\n",
    "\n",
    "html = urllib.request.urlopen(url, context=ctx).read()\n",
    "\n",
    "links = re.findall(b'<td style=\"text-align:center;\"><i><a href=\"/wiki/(.*?)\"', html)\n",
    "count = 0\n",
    "for link in links:\n",
    "  \n",
    "  count = count + 1\n",
    "  so = wptools.page(link.decode()).get_parse()\n",
    "  print(\"\\n\")\n",
    "  infobox = so.data['infobox']\n",
    "  for (key,value) in infobox.items():\n",
    "    print(key,\":\",soup(value,\"html.parser\").text)\n",
    "  print(\"\\n\")\n",
    "  if(count==5) :\n",
    "    break"
   ]
  },
  {
   "cell_type": "code",
   "execution_count": null,
   "metadata": {},
   "outputs": [],
   "source": []
  }
 ],
 "metadata": {
  "kernelspec": {
   "display_name": "Python 3",
   "language": "python",
   "name": "python3"
  },
  "language_info": {
   "codemirror_mode": {
    "name": "ipython",
    "version": 3
   },
   "file_extension": ".py",
   "mimetype": "text/x-python",
   "name": "python",
   "nbconvert_exporter": "python",
   "pygments_lexer": "ipython3",
   "version": "3.8.3"
  }
 },
 "nbformat": 4,
 "nbformat_minor": 4
}
